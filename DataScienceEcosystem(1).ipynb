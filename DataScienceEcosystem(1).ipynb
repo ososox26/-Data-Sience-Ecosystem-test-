{
 "cells": [
  {
   "cell_type": "markdown",
   "id": "83f40b53-602a-4a47-985d-b8f98d085981",
   "metadata": {},
   "source": [
    "# Data science Ecostem #"
   ]
  },
  {
   "cell_type": "markdown",
   "id": "3fb762f4-6ca6-48e6-bddc-c009116fe4ed",
   "metadata": {},
   "source": [
    "# Data Science Tools and Ecosystem "
   ]
  },
  {
   "cell_type": "markdown",
   "id": "15dc9690-7cd0-4b7c-a6ce-42804caa026e",
   "metadata": {},
   "source": [
    "   **** Data Science Tools and Ecosystem***"
   ]
  },
  {
   "cell_type": "markdown",
   "id": "3bfa3827-aed3-4359-84bf-164b7350518f",
   "metadata": {},
   "source": [
    "In this notebook, Data Science Tools and Ecosystem are summarized.\n"
   ]
  },
  {
   "cell_type": "markdown",
   "id": "dc40ac3a-3dbe-48e3-9e61-d03bb0d28283",
   "metadata": {},
   "source": [
    "# dslanguages.png\n",
    "\n",
    "1. 1, 2, 3\n",
    "2. 10, 20, 30\n",
    "3. 45, 55, 66"
   ]
  },
  {
   "cell_type": "markdown",
   "id": "22d444b1-7d20-4242-a061-68a55d350ff3",
   "metadata": {},
   "source": [
    "# dslibraries.png\n",
    "1. html\n",
    "2. css\n",
    "3. R\n",
    "4. python"
   ]
  },
  {
   "cell_type": "markdown",
   "id": "3f700eb1-64d8-456b-96cc-ee685abf44a1",
   "metadata": {},
   "source": [
    "| Data Science Tools|\n",
    "|-------------------|\n",
    "| python            |\n",
    "| SQL lite          |\n",
    "| R                 |"
   ]
  },
  {
   "cell_type": "markdown",
   "id": "5f418270-9472-4098-9f39-bfa1666bea69",
   "metadata": {},
   "source": [
    "#  evaluating arithmetic expressions\n",
    "$$A=X*Y  $$\n"
   ]
  },
  {
   "cell_type": "markdown",
   "id": "52d86321-2b34-49b5-8c42-60e9f11299ad",
   "metadata": {},
   "source": [
    "$(3*4)+5=17$\n",
    "*******\n",
    "## This a simple arithmetic expression to mutiply ##"
   ]
  },
  {
   "cell_type": "markdown",
   "id": "e1109291-cb33-4a04-89fb-4819ad86f627",
   "metadata": {},
   "source": [
    "##  convert 200 minutes to hours  ##\n",
    "$$Hours = minut/ 60$$\n",
    "$$Hours = 200/ 60 =3.33$$\n",
    "   "
   ]
  },
  {
   "cell_type": "markdown",
   "id": "e602dc3b-725b-40ea-9985-f9f0aec11fee",
   "metadata": {},
   "source": [
    "# List popular languages for Data Science ##\n",
    "Objectives:\n",
    "i.e. some of the key takeaways from the course  <strong>bold i.e. some of the key takeaways from the course </srong>."
   ]
  },
  {
   "cell_type": "markdown",
   "id": "7c0146d7-7a91-4c4e-b196-0c2ce76fa433",
   "metadata": {},
   "source": [
    "# List popular languages for Data Science ##\n",
    "***Objectives:***\n",
    "----------------\n",
    "<strong>bold i.e. some of the key takeaways from the course </srong>."
   ]
  },
  {
   "cell_type": "markdown",
   "id": "f2b5d9a5-eb14-45b6-8255-3062367ddc14",
   "metadata": {},
   "source": [
    "# List popular languages for Data Science ##\n",
    "***Objectives:***\n",
    "<strong>bold i.e. some of the key takeaways from the course </srong>."
   ]
  },
  {
   "cell_type": "markdown",
   "id": "9b554759-995b-40db-951e-2507510f935e",
   "metadata": {},
   "source": [
    "<arial> i.e. some of the key takeaways from the course </arial>."
   ]
  },
  {
   "cell_type": "markdown",
   "id": "9ea01193-a6f1-4065-995e-136d95fb8cde",
   "metadata": {},
   "source": [
    "<em bold>i.e. some of the key takeaways from the course</bold>."
   ]
  },
  {
   "cell_type": "markdown",
   "id": "1208fbfa-60db-4709-854a-1a32eea0f66e",
   "metadata": {},
   "source": [
    "<strong><em> i.e. some of the key takeaways from the course <em></strong>."
   ]
  },
  {
   "cell_type": "markdown",
   "id": "b7f5afc9-6827-406e-b44e-ab5351fb4b29",
   "metadata": {},
   "source": [
    "<strong><li> i.e. some of the key takeaways from the course <li></strong>."
   ]
  },
  {
   "cell_type": "markdown",
   "id": "db6ce0c6-3106-40b6-836a-0598f9639f7f",
   "metadata": {},
   "source": [
    "<font font=Alti><> i.e. some of the key takeaways from the course</font>."
   ]
  },
  {
   "cell_type": "markdown",
   "id": "443ba133-e26d-4fd6-94db-7f710417ae9a",
   "metadata": {},
   "source": []
  },
  {
   "cell_type": "markdown",
   "id": "24e58982-9ba9-45e2-8266-9c05059189f0",
   "metadata": {},
   "source": [
    "# Title  : Data Sience Ecosystem #\n",
    "## Author : Mohamed Osama ##\n",
    "## Data   : 1/5/2024  ##"
   ]
  },
  {
   "cell_type": "code",
   "execution_count": null,
   "id": "15cd5825-63dc-4bbb-ade2-d9fd66ae52d0",
   "metadata": {},
   "outputs": [],
   "source": []
  }
 ],
 "metadata": {
  "kernelspec": {
   "display_name": "Python 3 (ipykernel)",
   "language": "python",
   "name": "python3"
  },
  "language_info": {
   "codemirror_mode": {
    "name": "ipython",
    "version": 3
   },
   "file_extension": ".py",
   "mimetype": "text/x-python",
   "name": "python",
   "nbconvert_exporter": "python",
   "pygments_lexer": "ipython3",
   "version": "3.11.7"
  }
 },
 "nbformat": 4,
 "nbformat_minor": 5
}
